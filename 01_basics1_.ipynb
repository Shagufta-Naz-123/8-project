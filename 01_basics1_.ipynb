{
  "nbformat": 4,
  "nbformat_minor": 0,
  "metadata": {
    "colab": {
      "provenance": [],
      "authorship_tag": "ABX9TyOk8rgk3DrNcW0JasickTGk",
      "include_colab_link": true
    },
    "kernelspec": {
      "name": "python3",
      "display_name": "Python 3"
    },
    "language_info": {
      "name": "python"
    }
  },
  "cells": [
    {
      "cell_type": "markdown",
      "metadata": {
        "id": "view-in-github",
        "colab_type": "text"
      },
      "source": [
        "<a href=\"https://colab.research.google.com/github/Shagufta-Naz-123/8-project/blob/main/01_basics1_.ipynb\" target=\"_parent\"><img src=\"https://colab.research.google.com/assets/colab-badge.svg\" alt=\"Open In Colab\"/></a>"
      ]
    },
    {
      "cell_type": "code",
      "source": [
        "PROMPT: str = \"What do you want? \"\n",
        "JOKE: str = \"\"\"Here is a joke for you!\n",
        "Panaversity Shagufta is heading out to the grocery store.\n",
        "A programmer tells her: get a liter of milk, and if they have eggs, get 12.\n",
        "Shagufta returns with 13 liters of milk. The programmer asks why and Shagufta replies:\n",
        "'because they had eggs'\"\"\"\n",
        "SORRY: str = \"Sorry I only tell jokes.\"\n",
        "\n",
        "def main():\n",
        "    user_input = input(PROMPT).strip()\n",
        "\n",
        "    if user_input.lower() == \"joke\":\n",
        "        print(JOKE)\n",
        "    else:\n",
        "        print(SORRY)\n",
        "\n",
        "if __name__ == \"__main__\":\n",
        "    main()"
      ],
      "metadata": {
        "colab": {
          "base_uri": "https://localhost:8080/"
        },
        "id": "GRQzJwi_kAKO",
        "outputId": "2222c8e1-6845-4fd0-a3d7-a2cf0be48764"
      },
      "execution_count": 3,
      "outputs": [
        {
          "output_type": "stream",
          "name": "stdout",
          "text": [
            "What do you want? joke\n",
            "Here is a joke for you!\n",
            "Panaversity Shagufta is heading out to the grocery store.\n",
            "A programmer tells her: get a liter of milk, and if they have eggs, get 12.\n",
            "Shagufta returns with 13 liters of milk. The programmer asks why and Shagufta replies:\n",
            "'because they had eggs'\n"
          ]
        }
      ]
    },
    {
      "cell_type": "code",
      "source": [
        "def main():\n",
        "    curr_value = int(input(\"Enter a number: \"))\n",
        "\n",
        "    while curr_value < 100:\n",
        "        curr_value *= 2\n",
        "        print(curr_value, end=\" \")\n",
        "\n",
        "if __name__ == \"__main__\":\n",
        "    main()"
      ],
      "metadata": {
        "colab": {
          "base_uri": "https://localhost:8080/"
        },
        "id": "_oilCpC9kuDh",
        "outputId": "7a41e87f-b703-4447-adac-be15e6a929dc"
      },
      "execution_count": 4,
      "outputs": [
        {
          "output_type": "stream",
          "name": "stdout",
          "text": [
            "Enter a number: 8\n",
            "16 32 64 128 "
          ]
        }
      ]
    },
    {
      "cell_type": "code",
      "source": [
        "def main():\n",
        "    for i in range(10, 0, -1):\n",
        "        print(i, end=\" \")\n",
        "    print(\"Liftoff!\")\n",
        "\n",
        "if __name__ == \"__main__\":\n",
        "    main()"
      ],
      "metadata": {
        "colab": {
          "base_uri": "https://localhost:8080/"
        },
        "id": "dDKGhD_ylFmw",
        "outputId": "477af653-c0c4-4f69-dca8-6eb19e6f0bb4"
      },
      "execution_count": 5,
      "outputs": [
        {
          "output_type": "stream",
          "name": "stdout",
          "text": [
            "10 9 8 7 6 5 4 3 2 1 Liftoff!\n"
          ]
        }
      ]
    },
    {
      "cell_type": "code",
      "source": [
        "import random\n",
        "\n",
        "def main():\n",
        "    secret_number = random.randint(1, 99)\n",
        "    print(\"I am thinking of a number between 1 and 99...\")\n",
        "    print(f\"[Testing] Secret number is: {secret_number}\")  # ← Add this line\n",
        "\n",
        "    guess = int(input(\"Enter a guess: \"))\n",
        "\n",
        "    while guess != secret_number:\n",
        "        if guess < secret_number:\n",
        "            print(\"Your guess is too low\")\n",
        "        else:\n",
        "            print(\"Your guess is too high\")\n",
        "        guess = int(input(\"Enter a new guess: \"))\n",
        "\n",
        "    print(f\"Congrats! The number was: {secret_number}\")\n",
        "\n",
        "if __name__ == '__main__':\n",
        "    main()\n"
      ],
      "metadata": {
        "id": "5MLkBWrTxYcZ",
        "outputId": "5be6e7be-db7e-4dec-f6e7-3b33ca1a9844",
        "colab": {
          "base_uri": "https://localhost:8080/"
        }
      },
      "execution_count": 14,
      "outputs": [
        {
          "output_type": "stream",
          "name": "stdout",
          "text": [
            "I am thinking of a number between 1 and 99...\n",
            "[Testing] Secret number is: 79\n",
            "Enter a guess: 47\n",
            "Your guess is too low\n",
            "Enter a new guess: 20\n",
            "Your guess is too low\n",
            "Enter a new guess: 60\n",
            "Your guess is too low\n",
            "Enter a new guess: 79\n",
            "Congrats! The number was: 79\n"
          ]
        }
      ]
    },
    {
      "cell_type": "code",
      "source": [
        "import random\n",
        "\n",
        "N_NUMBERS = 10\n",
        "MIN_VALUE = 1\n",
        "MAX_VALUE = 100\n",
        "\n",
        "def main():\n",
        "    for _ in range(N_NUMBERS):\n",
        "        print(random.randint(MIN_VALUE, MAX_VALUE), end=\" \")\n",
        "\n",
        "if __name__ == '__main__':\n",
        "    main()"
      ],
      "metadata": {
        "id": "MSRI03OeySYt",
        "outputId": "52dac196-1766-4e22-8393-8cf1d70e3831",
        "colab": {
          "base_uri": "https://localhost:8080/"
        }
      },
      "execution_count": 15,
      "outputs": [
        {
          "output_type": "stream",
          "name": "stdout",
          "text": [
            "43 50 20 62 22 3 57 72 8 36 "
          ]
        }
      ]
    }
  ]
}